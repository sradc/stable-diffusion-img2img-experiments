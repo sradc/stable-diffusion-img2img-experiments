{
 "cells": [
  {
   "cell_type": "code",
   "execution_count": null,
   "metadata": {},
   "outputs": [],
   "source": [
    "import time\n",
    "from pathlib import Path\n",
    "import shutil\n",
    "\n",
    "import cv2\n",
    "import diffusers\n",
    "import matplotlib.pyplot as plt\n",
    "import numpy as np\n",
    "import torch\n",
    "from diffusers import LMSDiscreteScheduler, StableDiffusionPipeline\n",
    "from PIL import Image\n",
    "from skimage.exposure import match_histograms\n",
    "from torch import autocast\n",
    "from torchvision import transforms as tfms\n",
    "from tqdm.auto import tqdm\n",
    "\n",
    "from img2img import StableDiffusionImg2ImgPipeline"
   ]
  },
  {
   "cell_type": "code",
   "execution_count": 2,
   "metadata": {},
   "outputs": [],
   "source": [
    "STABLE_DIFFUSION_MODEL_PATH = Path.home() / \"Desktop/stable-diffusion-v1-4\"\n",
    "device = \"cuda\" if torch.cuda.is_available() else \"cpu\""
   ]
  },
  {
   "cell_type": "code",
   "execution_count": 3,
   "metadata": {},
   "outputs": [
    {
     "name": "stderr",
     "output_type": "stream",
     "text": [
      "{'trained_betas'} was not found in config. Values will be initialized to default values.\n",
      "ftfy or spacy is not installed using BERT BasicTokenizer instead of ftfy.\n"
     ]
    },
    {
     "data": {
      "text/plain": [
       "StableDiffusionImg2ImgPipeline {\n",
       "  \"_class_name\": \"StableDiffusionImg2ImgPipeline\",\n",
       "  \"_diffusers_version\": \"0.3.0\",\n",
       "  \"scheduler\": [\n",
       "    \"diffusers\",\n",
       "    \"LMSDiscreteScheduler\"\n",
       "  ],\n",
       "  \"text_encoder\": [\n",
       "    \"transformers\",\n",
       "    \"CLIPTextModel\"\n",
       "  ],\n",
       "  \"tokenizer\": [\n",
       "    \"transformers\",\n",
       "    \"CLIPTokenizer\"\n",
       "  ],\n",
       "  \"unet\": [\n",
       "    \"diffusers\",\n",
       "    \"UNet2DConditionModel\"\n",
       "  ],\n",
       "  \"vae\": [\n",
       "    \"diffusers\",\n",
       "    \"AutoencoderKL\"\n",
       "  ]\n",
       "}"
      ]
     },
     "execution_count": 3,
     "metadata": {},
     "output_type": "execute_result"
    }
   ],
   "source": [
    "# Load the txt_to_img pipeline\n",
    "txt_to_img = StableDiffusionPipeline.from_pretrained(\n",
    "    str(STABLE_DIFFUSION_MODEL_PATH), revision=\"fp16\", torch_dtype=torch.float16\n",
    ")\n",
    "# Turn off safety_checker to avoid false positives\n",
    "txt_to_img.safety_checker = lambda images, **kwargs: (images, False)\n",
    "# txt_to_img.enable_attention_slicing()  # use less vram\n",
    "txt_to_img = txt_to_img.to(device)\n",
    "# Load the img2img pipeline, using the models\n",
    "# from the txt_to_img pipeline, to not waste vram.\n",
    "im2im = StableDiffusionImg2ImgPipeline(\n",
    "    vae=txt_to_img.vae,\n",
    "    text_encoder=txt_to_img.text_encoder,\n",
    "    tokenizer=txt_to_img.tokenizer,\n",
    "    unet=txt_to_img.unet,\n",
    "    scheduler=LMSDiscreteScheduler(\n",
    "        beta_start=0.00085,\n",
    "        beta_end=0.012,\n",
    "        beta_schedule=\"scaled_linear\",\n",
    "        num_train_timesteps=1000,\n",
    "    ),\n",
    ")\n",
    "# im2im.enable_attention_slicing()\n",
    "im2im.progress_bar = lambda iterable: iterable  # turn off progress bar\n",
    "im2im.to(device)"
   ]
  },
  {
   "cell_type": "code",
   "execution_count": 4,
   "metadata": {},
   "outputs": [],
   "source": [
    "# Helpers\n",
    "\n",
    "\n",
    "def timestamp():\n",
    "    return time.strftime(\"%Y%m%d-%H%M%S\")\n",
    "\n",
    "\n",
    "def maintain_colors(prev_img, color_match_sample, mode):\n",
    "    # source: https://colab.research.google.com/github/deforum/stable-diffusion/blob/main/Deforum_Stable_Diffusion.ipynb#scrollTo=2g-f7cQmf2Nt\n",
    "    if mode == \"Match Frame 0 RGB\":\n",
    "        return match_histograms(prev_img, color_match_sample, multichannel=True)\n",
    "    elif mode == \"Match Frame 0 HSV\":\n",
    "        prev_img_hsv = cv2.cvtColor(prev_img, cv2.COLOR_RGB2HSV)\n",
    "        color_match_hsv = cv2.cvtColor(color_match_sample, cv2.COLOR_RGB2HSV)\n",
    "        matched_hsv = match_histograms(prev_img_hsv, color_match_hsv, multichannel=True)\n",
    "        return cv2.cvtColor(matched_hsv, cv2.COLOR_HSV2RGB)\n",
    "    else:  # Match Frame 0 LAB\n",
    "        prev_img_lab = cv2.cvtColor(prev_img, cv2.COLOR_RGB2LAB)\n",
    "        color_match_lab = cv2.cvtColor(color_match_sample, cv2.COLOR_RGB2LAB)\n",
    "        matched_lab = match_histograms(prev_img_lab, color_match_lab, multichannel=True)\n",
    "        return cv2.cvtColor(matched_lab, cv2.COLOR_LAB2RGB)"
   ]
  },
  {
   "cell_type": "code",
   "execution_count": 90,
   "metadata": {},
   "outputs": [
    {
     "name": "stdout",
     "output_type": "stream",
     "text": [
      "notebook_path.resolve() = PosixPath('/home/sid/Documents/stable-diffusion-im2im/main.ipynb')\n",
      "OUTPUT_DIR.resolve() = PosixPath('/home/sid/Documents/stable-diffusion-im2im/images/20221002-154356')\n"
     ]
    }
   ],
   "source": [
    "OUTPUT_DIR = Path(f\"images/{timestamp()}\")\n",
    "PROMPT_A = \"A photo of carrots\"\n",
    "PROMPT_B = \"A photo of hands\"\n",
    "GUIDANCE_SCALE = 7.5\n",
    "IMG2IMG_STRENGTH = 0.65\n",
    "NUM_IMG2IMG_STEPS = 20\n",
    "SEED = 0\n",
    "WIDTH = 512\n",
    "HEIGHT = 512\n",
    "OUTPUT_DIR.mkdir(exist_ok=True, parents=True)\n",
    "# Use same random seed for everything\n",
    "generator = torch.Generator(\"cuda\").manual_seed(SEED)\n",
    "# To know where things were\n",
    "notebook_path = Path(__vsc_ipynb_file__)  # vscode only\n",
    "print(f\"{notebook_path.resolve() = }\")\n",
    "print(f\"{OUTPUT_DIR.resolve() = }\")"
   ]
  },
  {
   "cell_type": "code",
   "execution_count": 100,
   "metadata": {},
   "outputs": [
    {
     "data": {
      "text/plain": [
       "PosixPath('images/20221002-154356/main_20221002-155443.ipynb')"
      ]
     },
     "execution_count": 100,
     "metadata": {},
     "output_type": "execute_result"
    }
   ],
   "source": [
    "# save a copy of this nb in OUTPUT_DIR, for reproducibility\n",
    "shutil.copy(\n",
    "    src=notebook_path, dst=OUTPUT_DIR / f\"{notebook_path.stem}_{timestamp()}.ipynb\"\n",
    ")"
   ]
  },
  {
   "cell_type": "code",
   "execution_count": 92,
   "metadata": {},
   "outputs": [
    {
     "name": "stderr",
     "output_type": "stream",
     "text": [
      "100%|██████████| 51/51 [00:09<00:00,  5.36it/s]\n"
     ]
    }
   ],
   "source": [
    "# Generate the initial image\n",
    "with autocast(\"cuda\"), torch.no_grad():\n",
    "    init_image = txt_to_img(\n",
    "        [PROMPT_A], width=WIDTH, height=HEIGHT, generator=generator\n",
    "    )[\"sample\"][0]\n",
    "init_image.save(OUTPUT_DIR / f\"{PROMPT_A}_{PROMPT_B}_{0:04d}.jpg\")\n",
    "image = init_image\n",
    "i = 0"
   ]
  },
  {
   "cell_type": "code",
   "execution_count": 93,
   "metadata": {},
   "outputs": [
    {
     "name": "stderr",
     "output_type": "stream",
     "text": [
      "  0%|          | 0/20 [00:00<?, ?it/s]/tmp/ipykernel_52008/570955215.py:11: FutureWarning: `multichannel` is a deprecated argument name for `match_histograms`. It will be removed in version 1.0. Please use `channel_axis` instead.\n",
      "  return match_histograms(prev_img, color_match_sample, multichannel=True)\n",
      "100%|██████████| 20/20 [02:07<00:00,  6.40s/it]"
     ]
    },
    {
     "name": "stdout",
     "output_type": "stream",
     "text": [
      "i = 20\n"
     ]
    },
    {
     "name": "stderr",
     "output_type": "stream",
     "text": [
      "\n"
     ]
    }
   ],
   "source": [
    "i_start = i + 1  # means can rerun cell to continue generation\n",
    "# Generate the rest of the images\n",
    "for i in tqdm(range(i_start, i_start + NUM_IMG2IMG_STEPS)):\n",
    "    # Try to prevent colours from going red\n",
    "    image = Image.fromarray(\n",
    "        maintain_colors(np.array(image), np.array(init_image), \"Match Frame 0 RGB\")\n",
    "    )\n",
    "    generator = torch.Generator(\"cuda\").manual_seed(i)\n",
    "    with autocast(\"cuda\"), torch.no_grad():\n",
    "        image = im2im(\n",
    "            PROMPT_B,\n",
    "            image,\n",
    "            strength=IMG2IMG_STRENGTH,\n",
    "            guidance_scale=GUIDANCE_SCALE,\n",
    "            generator=generator,\n",
    "        )[\"sample\"][0]\n",
    "    image.save(OUTPUT_DIR / f\"{PROMPT_A}_{PROMPT_B}_{i:04d}.jpg\")\n",
    "print(f\"{i = }\")"
   ]
  },
  {
   "cell_type": "code",
   "execution_count": 95,
   "metadata": {},
   "outputs": [
    {
     "name": "stderr",
     "output_type": "stream",
     "text": [
      "  0%|          | 0/20 [00:00<?, ?it/s]/tmp/ipykernel_52008/570955215.py:11: FutureWarning: `multichannel` is a deprecated argument name for `match_histograms`. It will be removed in version 1.0. Please use `channel_axis` instead.\n",
      "  return match_histograms(prev_img, color_match_sample, multichannel=True)\n",
      "100%|██████████| 20/20 [02:09<00:00,  6.46s/it]"
     ]
    },
    {
     "name": "stdout",
     "output_type": "stream",
     "text": [
      "i = 40\n"
     ]
    },
    {
     "name": "stderr",
     "output_type": "stream",
     "text": [
      "\n"
     ]
    }
   ],
   "source": [
    "i_start = i + 1  # means can rerun cell to continue generation\n",
    "# Generate the rest of the images\n",
    "for i in tqdm(range(i_start, i_start + NUM_IMG2IMG_STEPS)):\n",
    "    # Try to prevent colours from going red\n",
    "    image = Image.fromarray(\n",
    "        maintain_colors(np.array(image), np.array(init_image), \"Match Frame 0 RGB\")\n",
    "    )\n",
    "    generator = torch.Generator(\"cuda\").manual_seed(i)\n",
    "    with autocast(\"cuda\"), torch.no_grad():\n",
    "        image = im2im(\n",
    "            PROMPT_A,\n",
    "            image,\n",
    "            strength=IMG2IMG_STRENGTH,\n",
    "            guidance_scale=GUIDANCE_SCALE,\n",
    "            generator=generator,\n",
    "        )[\"sample\"][0]\n",
    "    image.save(OUTPUT_DIR / f\"{PROMPT_A}_{PROMPT_B}_{i:04d}.jpg\")\n",
    "print(f\"{i = }\")"
   ]
  },
  {
   "cell_type": "code",
   "execution_count": 102,
   "metadata": {},
   "outputs": [
    {
     "name": "stdout",
     "output_type": "stream",
     "text": [
      "ffmpeg version 4.4.2 Copyright (c) 2000-2021 the FFmpeg developers\n",
      "  built with gcc 10.4.0 (conda-forge gcc 10.4.0-16)\n",
      "  configuration: --prefix=/home/conda/feedstock_root/build_artifacts/ffmpeg_1664281150702/_h_env_placehold_placehold_placehold_placehold_placehold_placehold_placehold_placehold_placehold_placehold_placehold_placehold_placehold_placehold_placehold_placehold_placehold_placehold_plac --cc=/home/conda/feedstock_root/build_artifacts/ffmpeg_1664281150702/_build_env/bin/x86_64-conda-linux-gnu-cc --cxx=/home/conda/feedstock_root/build_artifacts/ffmpeg_1664281150702/_build_env/bin/x86_64-conda-linux-gnu-c++ --nm=/home/conda/feedstock_root/build_artifacts/ffmpeg_1664281150702/_build_env/bin/x86_64-conda-linux-gnu-nm --ar=/home/conda/feedstock_root/build_artifacts/ffmpeg_1664281150702/_build_env/bin/x86_64-conda-linux-gnu-ar --disable-doc --disable-openssl --enable-avresample --enable-demuxer=dash --enable-hardcoded-tables --enable-libfreetype --enable-libfontconfig --enable-libopenh264 --enable-gnutls --enable-libmp3lame --enable-libvpx --enable-pthreads --enable-vaapi --enable-gpl --enable-libx264 --enable-libx265 --enable-libaom --enable-libsvtav1 --enable-libxml2 --enable-pic --enable-shared --disable-static --enable-version3 --enable-zlib --pkg-config=/home/conda/feedstock_root/build_artifacts/ffmpeg_1664281150702/_build_env/bin/pkg-config\n",
      "  libavutil      56. 70.100 / 56. 70.100\n",
      "  libavcodec     58.134.100 / 58.134.100\n",
      "  libavformat    58. 76.100 / 58. 76.100\n",
      "  libavdevice    58. 13.100 / 58. 13.100\n",
      "  libavfilter     7.110.100 /  7.110.100\n",
      "  libavresample   4.  0.  0 /  4.  0.  0\n",
      "  libswscale      5.  9.100 /  5.  9.100\n",
      "  libswresample   3.  9.100 /  3.  9.100\n",
      "  libpostproc    55.  9.100 / 55.  9.100\n",
      "Input #0, image2, from 'images/20221002-154356/*.jpg':\n",
      "  Duration: 00:00:07.63, start: 0.000000, bitrate: N/A\n",
      "  Stream #0:0: Video: mjpeg (Baseline), yuvj420p(pc, bt470bg/unknown/unknown), 512x512 [SAR 1:1 DAR 1:1], 8 fps, 8 tbr, 8 tbn, 8 tbc\n",
      "Stream mapping:\n",
      "  Stream #0:0 -> #0:0 (mjpeg (native) -> h264 (libx264))\n",
      "Press [q] to stop, [?] for help\n",
      "\u001b[1;34m[swscaler @ 0x55a103c233c0] \u001b[0m\u001b[0;33mdeprecated pixel format used, make sure you did set range correctly\n",
      "\u001b[0m\u001b[1;36m[libx264 @ 0x55a103a10c40] \u001b[0musing SAR=1/1\n",
      "\u001b[1;36m[libx264 @ 0x55a103a10c40] \u001b[0musing cpu capabilities: MMX2 SSE2Fast SSSE3 SSE4.2 AVX FMA3 BMI2 AVX2\n",
      "\u001b[1;36m[libx264 @ 0x55a103a10c40] \u001b[0mprofile High, level 2.2, 4:2:0, 8-bit\n",
      "\u001b[1;36m[libx264 @ 0x55a103a10c40] \u001b[0m264 - core 164 r3095 baee400 - H.264/MPEG-4 AVC codec - Copyleft 2003-2022 - http://www.videolan.org/x264.html - options: cabac=1 ref=3 deblock=1:0:0 analyse=0x3:0x113 me=hex subme=7 psy=1 psy_rd=1.00:0.00 mixed_ref=1 me_range=16 chroma_me=1 trellis=1 8x8dct=1 cqm=0 deadzone=21,11 fast_pskip=1 chroma_qp_offset=-2 threads=16 lookahead_threads=2 sliced_threads=0 nr=0 decimate=1 interlaced=0 bluray_compat=0 constrained_intra=0 bframes=3 b_pyramid=2 b_adapt=1 b_bias=0 direct=1 weightb=1 open_gop=0 weightp=2 keyint=250 keyint_min=8 scenecut=40 intra_refresh=0 rc_lookahead=40 rc=crf mbtree=1 crf=23.0 qcomp=0.60 qpmin=0 qpmax=69 qpstep=4 ip_ratio=1.40 aq=1:1.00\n",
      "Output #0, mp4, to 'images/20221002-154356/movie.mp4':\n",
      "  Metadata:\n",
      "    encoder         : Lavf58.76.100\n",
      "  Stream #0:0: Video: h264 (avc1 / 0x31637661), yuv420p(tv, bt470bg/unknown/unknown, progressive), 512x512 [SAR 1:1 DAR 1:1], q=2-31, 8 fps, 16384 tbn\n",
      "    Metadata:\n",
      "      encoder         : Lavc58.134.100 libx264\n",
      "    Side data:\n",
      "      cpb: bitrate max/min/avg: 0/0/0 buffer size: 0 vbv_delay: N/A\n",
      "frame=   61 fps=0.0 q=-1.0 Lsize=    1488kB time=00:00:07.25 bitrate=1681.0kbits/s speed=14.3x    \n",
      "video:1486kB audio:0kB subtitle:0kB other streams:0kB global headers:0kB muxing overhead: 0.098299%\n",
      "\u001b[1;36m[libx264 @ 0x55a103a10c40] \u001b[0mframe I:4     Avg QP:22.66  size: 28669\n",
      "\u001b[1;36m[libx264 @ 0x55a103a10c40] \u001b[0mframe P:29    Avg QP:24.94  size: 26600\n",
      "\u001b[1;36m[libx264 @ 0x55a103a10c40] \u001b[0mframe B:28    Avg QP:24.88  size: 22683\n",
      "\u001b[1;36m[libx264 @ 0x55a103a10c40] \u001b[0mconsecutive B-frames: 32.8% 13.1% 14.8% 39.3%\n",
      "\u001b[1;36m[libx264 @ 0x55a103a10c40] \u001b[0mmb I  I16..4:  2.5% 92.8%  4.7%\n",
      "\u001b[1;36m[libx264 @ 0x55a103a10c40] \u001b[0mmb P  I16..4:  2.8% 80.8%  5.3%  P16..4:  4.0%  5.0%  1.9%  0.0%  0.0%    skip: 0.2%\n",
      "\u001b[1;36m[libx264 @ 0x55a103a10c40] \u001b[0mmb B  I16..4:  3.5% 54.9%  5.3%  B16..8: 12.0% 14.7%  3.8%  direct: 5.3%  skip: 0.5%  L0:46.5% L1:35.1% BI:18.3%\n",
      "\u001b[1;36m[libx264 @ 0x55a103a10c40] \u001b[0m8x8 transform intra:89.3% inter:86.3%\n",
      "\u001b[1;36m[libx264 @ 0x55a103a10c40] \u001b[0mcoded y,uvDC,uvAC intra: 86.7% 89.6% 59.3% inter: 77.3% 95.0% 40.7%\n",
      "\u001b[1;36m[libx264 @ 0x55a103a10c40] \u001b[0mi16 v,h,dc,p: 31%  8%  6% 55%\n",
      "\u001b[1;36m[libx264 @ 0x55a103a10c40] \u001b[0mi8 v,h,dc,ddl,ddr,vr,hd,vl,hu: 32%  8% 21%  4%  7% 13%  5%  8%  4%\n",
      "\u001b[1;36m[libx264 @ 0x55a103a10c40] \u001b[0mi4 v,h,dc,ddl,ddr,vr,hd,vl,hu: 39%  6% 10%  4%  9% 17%  4%  8%  3%\n",
      "\u001b[1;36m[libx264 @ 0x55a103a10c40] \u001b[0mi8c dc,h,v,p: 35% 12% 40% 12%\n",
      "\u001b[1;36m[libx264 @ 0x55a103a10c40] \u001b[0mWeighted P-Frames: Y:20.7% UV:20.7%\n",
      "\u001b[1;36m[libx264 @ 0x55a103a10c40] \u001b[0mref P L0: 40.3% 14.2% 25.3% 15.6%  4.5%\n",
      "\u001b[1;36m[libx264 @ 0x55a103a10c40] \u001b[0mref B L0: 73.1% 23.3%  3.6%\n",
      "\u001b[1;36m[libx264 @ 0x55a103a10c40] \u001b[0mref B L1: 92.1%  7.9%\n",
      "\u001b[1;36m[libx264 @ 0x55a103a10c40] \u001b[0mkb/s:1596.01\n",
      "VLC media player 3.0.16 Vetinari (revision 3.0.16-0-g5e70837d8d)\n",
      "[\u001b[32;1m00005642449a9a00\u001b[0m] main libvlc: \u001b[0;1mRunning vlc with the default interface. Use 'cvlc' to use vlc without interface.\u001b[0m\n",
      "TagLib: MP4: No audio tracks\n",
      "Qt: Session management error: Could not open network socket\n",
      "TagLib: MP4: No audio tracks\n",
      "libva info: VA-API version 1.1.0\n",
      "libva info: va_getDriverName() returns 0\n",
      "libva info: Trying to open /snap/vlc/2344/usr/lib/x86_64-linux-gnu/dri/nvidia_drv_video.so\n",
      "libva info: Found init function __vaDriverInit_1_0\n",
      "libva info: va_openDriver() returns 0\n",
      "[\u001b[32;1m00007f60bc001f30\u001b[0m] glconv_vaapi_x11 gl error: \u001b[31;1mvaCreateSurfaces: attribute not supported\u001b[0m\n",
      "[\u001b[32;1m00007f60c40500b0\u001b[0m] main video output error: \u001b[31;1mvideo output creation failed\u001b[0m\n",
      "[\u001b[32;1m00007f60dcc03b50\u001b[0m] main decoder error: \u001b[31;1mfailed to create video output\u001b[0m\n",
      "[\u001b[32;1m00007f60dcc03b50\u001b[0m] avcodec decoder: \u001b[0;1mUsing NVIDIA VDPAU Driver Shared Library  470.141.03  Thu Jun 30 18:33:34 UTC 2022 for hardware decoding\u001b[0m\n",
      "TagLib: MP4: No audio tracks\n",
      "[\u001b[32;1m00007f60dcc020a0\u001b[0m] avcodec decoder: \u001b[0;1mUsing NVIDIA VDPAU Driver Shared Library  470.141.03  Thu Jun 30 18:33:34 UTC 2022 for hardware decoding\u001b[0m\n",
      "The X11 connection broke: I/O error (code 1)\n",
      "XIO:  fatal IO error 11 (Resource temporarily unavailable) on X server \":1\"\n",
      "      after 27 requests (27 known processed) with 0 events remaining.\n"
     ]
    }
   ],
   "source": [
    "# turn the images into a movie\n",
    "!ffmpeg -y -framerate 8 -pattern_type glob -i \"{OUTPUT_DIR}/*.jpg\"  \\\n",
    "    -c:v libx264 -pix_fmt yuv420p -vf trim=0:30 \"{OUTPUT_DIR}/movie.mp4\"\n",
    "\n",
    "# Play the movie with vlc (if it's installed)\n",
    "!vlc \"{OUTPUT_DIR}/movie.mp4\""
   ]
  },
  {
   "cell_type": "code",
   "execution_count": 106,
   "metadata": {},
   "outputs": [
    {
     "name": "stdout",
     "output_type": "stream",
     "text": [
      "ffmpeg version 4.4.2 Copyright (c) 2000-2021 the FFmpeg developers\n",
      "  built with gcc 10.4.0 (conda-forge gcc 10.4.0-16)\n",
      "  configuration: --prefix=/home/conda/feedstock_root/build_artifacts/ffmpeg_1664281150702/_h_env_placehold_placehold_placehold_placehold_placehold_placehold_placehold_placehold_placehold_placehold_placehold_placehold_placehold_placehold_placehold_placehold_placehold_placehold_plac --cc=/home/conda/feedstock_root/build_artifacts/ffmpeg_1664281150702/_build_env/bin/x86_64-conda-linux-gnu-cc --cxx=/home/conda/feedstock_root/build_artifacts/ffmpeg_1664281150702/_build_env/bin/x86_64-conda-linux-gnu-c++ --nm=/home/conda/feedstock_root/build_artifacts/ffmpeg_1664281150702/_build_env/bin/x86_64-conda-linux-gnu-nm --ar=/home/conda/feedstock_root/build_artifacts/ffmpeg_1664281150702/_build_env/bin/x86_64-conda-linux-gnu-ar --disable-doc --disable-openssl --enable-avresample --enable-demuxer=dash --enable-hardcoded-tables --enable-libfreetype --enable-libfontconfig --enable-libopenh264 --enable-gnutls --enable-libmp3lame --enable-libvpx --enable-pthreads --enable-vaapi --enable-gpl --enable-libx264 --enable-libx265 --enable-libaom --enable-libsvtav1 --enable-libxml2 --enable-pic --enable-shared --disable-static --enable-version3 --enable-zlib --pkg-config=/home/conda/feedstock_root/build_artifacts/ffmpeg_1664281150702/_build_env/bin/pkg-config\n",
      "  libavutil      56. 70.100 / 56. 70.100\n",
      "  libavcodec     58.134.100 / 58.134.100\n",
      "  libavformat    58. 76.100 / 58. 76.100\n",
      "  libavdevice    58. 13.100 / 58. 13.100\n",
      "  libavfilter     7.110.100 /  7.110.100\n",
      "  libavresample   4.  0.  0 /  4.  0.  0\n",
      "  libswscale      5.  9.100 /  5.  9.100\n",
      "  libswresample   3.  9.100 /  3.  9.100\n",
      "  libpostproc    55.  9.100 / 55.  9.100\n",
      "Input #0, mov,mp4,m4a,3gp,3g2,mj2, from 'images/20221002-154356/movie.mp4':\n",
      "  Metadata:\n",
      "    major_brand     : isom\n",
      "    minor_version   : 512\n",
      "    compatible_brands: isomiso2avc1mp41\n",
      "    encoder         : Lavf58.76.100\n",
      "  Duration: 00:00:07.63, start: 0.000000, bitrate: 1598 kb/s\n",
      "  Stream #0:0(und): Video: h264 (High) (avc1 / 0x31637661), yuv420p(tv, bt470bg/unknown/unknown), 512x512 [SAR 1:1 DAR 1:1], 1596 kb/s, 8 fps, 8 tbr, 16384 tbn, 16 tbc (default)\n",
      "    Metadata:\n",
      "      handler_name    : VideoHandler\n",
      "      vendor_id       : [0][0][0][0]\n",
      "Stream mapping:\n",
      "  Stream #0:0 (h264) -> reverse\n",
      "  Stream #0:0 (h264) -> concat:in0:v0\n",
      "  concat -> Stream #0:0 (libx264)\n",
      "Press [q] to stop, [?] for help\n",
      "\u001b[1;36m[libx264 @ 0x559145f37400] \u001b[0musing SAR=1/1\n",
      "\u001b[1;36m[libx264 @ 0x559145f37400] \u001b[0musing cpu capabilities: MMX2 SSE2Fast SSSE3 SSE4.2 AVX FMA3 BMI2 AVX2\n",
      "\u001b[1;36m[libx264 @ 0x559145f37400] \u001b[0mprofile High, level 2.2, 4:2:0, 8-bit\n",
      "\u001b[1;36m[libx264 @ 0x559145f37400] \u001b[0m264 - core 164 r3095 baee400 - H.264/MPEG-4 AVC codec - Copyleft 2003-2022 - http://www.videolan.org/x264.html - options: cabac=1 ref=3 deblock=1:0:0 analyse=0x3:0x113 me=hex subme=7 psy=1 psy_rd=1.00:0.00 mixed_ref=1 me_range=16 chroma_me=1 trellis=1 8x8dct=1 cqm=0 deadzone=21,11 fast_pskip=1 chroma_qp_offset=-2 threads=16 lookahead_threads=2 sliced_threads=0 nr=0 decimate=1 interlaced=0 bluray_compat=0 constrained_intra=0 bframes=3 b_pyramid=2 b_adapt=1 b_bias=0 direct=1 weightb=1 open_gop=0 weightp=2 keyint=250 keyint_min=8 scenecut=40 intra_refresh=0 rc_lookahead=40 rc=crf mbtree=1 crf=23.0 qcomp=0.60 qpmin=0 qpmax=69 qpstep=4 ip_ratio=1.40 aq=1:1.00\n",
      "Output #0, mp4, to 'images/20221002-154356/movie_loop.mp4':\n",
      "  Metadata:\n",
      "    major_brand     : isom\n",
      "    minor_version   : 512\n",
      "    compatible_brands: isomiso2avc1mp41\n",
      "    encoder         : Lavf58.76.100\n",
      "  Stream #0:0: Video: h264 (avc1 / 0x31637661), yuv420p(tv, bt470bg/unknown/unknown, progressive), 512x512 [SAR 1:1 DAR 1:1], q=2-31, 8 fps, 16384 tbn (default)\n",
      "    Metadata:\n",
      "      encoder         : Lavc58.134.100 libx264\n",
      "    Side data:\n",
      "      cpb: bitrate max/min/avg: 0/0/0 buffer size: 0 vbv_delay: N/A\n",
      "frame=  122 fps=0.0 q=-1.0 Lsize=    2804kB time=00:00:14.87 bitrate=1544.2kbits/s speed=18.9x    \n",
      "video:2802kB audio:0kB subtitle:0kB other streams:0kB global headers:0kB muxing overhead: 0.075147%\n",
      "\u001b[1;36m[libx264 @ 0x559145f37400] \u001b[0mframe I:8     Avg QP:21.68  size: 27529\n",
      "\u001b[1;36m[libx264 @ 0x559145f37400] \u001b[0mframe P:54    Avg QP:24.90  size: 25463\n",
      "\u001b[1;36m[libx264 @ 0x559145f37400] \u001b[0mframe B:60    Avg QP:24.85  size: 21219\n",
      "\u001b[1;36m[libx264 @ 0x559145f37400] \u001b[0mconsecutive B-frames: 27.9% 14.8% 14.8% 42.6%\n",
      "\u001b[1;36m[libx264 @ 0x559145f37400] \u001b[0mmb I  I16..4:  3.3% 91.0%  5.7%\n",
      "\u001b[1;36m[libx264 @ 0x559145f37400] \u001b[0mmb P  I16..4:  3.4% 78.4%  6.3%  P16..4:  4.7%  5.3%  1.8%  0.0%  0.0%    skip: 0.2%\n",
      "\u001b[1;36m[libx264 @ 0x559145f37400] \u001b[0mmb B  I16..4:  4.2% 50.9%  5.7%  B16..8: 13.2% 14.8%  3.8%  direct: 5.2%  skip: 2.3%  L0:45.3% L1:38.6% BI:16.1%\n",
      "\u001b[1;36m[libx264 @ 0x559145f37400] \u001b[0m8x8 transform intra:87.1% inter:86.4%\n",
      "\u001b[1;36m[libx264 @ 0x559145f37400] \u001b[0mcoded y,uvDC,uvAC intra: 82.8% 89.7% 60.0% inter: 71.0% 90.9% 32.1%\n",
      "\u001b[1;36m[libx264 @ 0x559145f37400] \u001b[0mi16 v,h,dc,p: 30%  9%  6% 56%\n",
      "\u001b[1;36m[libx264 @ 0x559145f37400] \u001b[0mi8 v,h,dc,ddl,ddr,vr,hd,vl,hu: 31%  8% 17%  4%  8% 15%  5%  8%  4%\n",
      "\u001b[1;36m[libx264 @ 0x559145f37400] \u001b[0mi4 v,h,dc,ddl,ddr,vr,hd,vl,hu: 39%  6% 10%  4%  9% 17%  4%  9%  3%\n",
      "\u001b[1;36m[libx264 @ 0x559145f37400] \u001b[0mi8c dc,h,v,p: 35% 12% 40% 13%\n",
      "\u001b[1;36m[libx264 @ 0x559145f37400] \u001b[0mWeighted P-Frames: Y:20.4% UV:20.4%\n",
      "\u001b[1;36m[libx264 @ 0x559145f37400] \u001b[0mref P L0: 38.9% 15.1% 23.2% 19.1%  3.6%\n",
      "\u001b[1;36m[libx264 @ 0x559145f37400] \u001b[0mref B L0: 77.1% 19.5%  3.4%\n",
      "\u001b[1;36m[libx264 @ 0x559145f37400] \u001b[0mref B L1: 90.5%  9.5%\n",
      "\u001b[1;36m[libx264 @ 0x559145f37400] \u001b[0mkb/s:1504.70\n",
      "VLC media player 3.0.16 Vetinari (revision 3.0.16-0-g5e70837d8d)\n",
      "[\u001b[32;1m0000557fce597a00\u001b[0m] main libvlc: \u001b[0;1mRunning vlc with the default interface. Use 'cvlc' to use vlc without interface.\u001b[0m\n",
      "TagLib: MP4: No audio tracks\n",
      "Qt: Session management error: Could not open network socket\n",
      "TagLib: MP4: No audio tracks\n",
      "libva info: VA-API version 1.1.0\n",
      "libva info: va_getDriverName() returns 0\n",
      "libva info: Trying to open /snap/vlc/2344/usr/lib/x86_64-linux-gnu/dri/nvidia_drv_video.so\n",
      "libva info: Found init function __vaDriverInit_1_0\n",
      "libva info: va_openDriver() returns 0\n",
      "[\u001b[32;1m00007f45d8001f30\u001b[0m] glconv_vaapi_x11 gl error: \u001b[31;1mvaCreateSurfaces: attribute not supported\u001b[0m\n",
      "[\u001b[32;1m00007f45e004fc90\u001b[0m] main video output error: \u001b[31;1mvideo output creation failed\u001b[0m\n",
      "[\u001b[32;1m00007f45f8c08020\u001b[0m] main decoder error: \u001b[31;1mfailed to create video output\u001b[0m\n",
      "[\u001b[32;1m00007f45f8c08020\u001b[0m] avcodec decoder: \u001b[0;1mUsing NVIDIA VDPAU Driver Shared Library  470.141.03  Thu Jun 30 18:33:34 UTC 2022 for hardware decoding\u001b[0m\n",
      "TagLib: MP4: No audio tracks\n",
      "[\u001b[32;1m00007f45f8c0c550\u001b[0m] avcodec decoder: \u001b[0;1mUsing NVIDIA VDPAU Driver Shared Library  470.141.03  Thu Jun 30 18:33:34 UTC 2022 for hardware decoding\u001b[0m\n",
      "QObject::~QObject: Timers cannot be stopped from another thread\n"
     ]
    }
   ],
   "source": [
    "# make the movie into a loop, by concatenating the reverse of it\n",
    "!ffmpeg -i \"{OUTPUT_DIR}/movie.mp4\"  \\\n",
    "    -filter_complex \"[0:v]reverse,fifo[r];[0:v][r] concat=n=2:v=1 [v]\" -map \"[v]\"  \\\n",
    "    -y  \\\n",
    "    \"{OUTPUT_DIR}/movie_loop.mp4\"\n",
    "\n",
    "!vlc \"{OUTPUT_DIR}/movie_loop.mp4\""
   ]
  }
 ],
 "metadata": {
  "kernelspec": {
   "display_name": "Python 3.9.13 ('stable-diffusion-im2im')",
   "language": "python",
   "name": "python3"
  },
  "language_info": {
   "codemirror_mode": {
    "name": "ipython",
    "version": 3
   },
   "file_extension": ".py",
   "mimetype": "text/x-python",
   "name": "python",
   "nbconvert_exporter": "python",
   "pygments_lexer": "ipython3",
   "version": "3.9.13"
  },
  "orig_nbformat": 4,
  "vscode": {
   "interpreter": {
    "hash": "cea3af3ea9aced30a5c72c792fbd026032c096800e9cc9471dd580bb4e3cffca"
   }
  }
 },
 "nbformat": 4,
 "nbformat_minor": 2
}
