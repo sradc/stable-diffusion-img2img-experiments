{
 "cells": [
  {
   "cell_type": "code",
   "execution_count": null,
   "metadata": {},
   "outputs": [],
   "source": [
    "import time\n",
    "from pathlib import Path\n",
    "import shutil\n",
    "\n",
    "import cv2\n",
    "import diffusers\n",
    "import matplotlib.pyplot as plt\n",
    "import numpy as np\n",
    "import torch\n",
    "from diffusers import LMSDiscreteScheduler, StableDiffusionPipeline\n",
    "from PIL import Image\n",
    "from skimage.exposure import match_histograms\n",
    "from torch import autocast\n",
    "from torchvision import transforms as tfms\n",
    "from tqdm.auto import tqdm\n",
    "\n",
    "from img2img import StableDiffusionImg2ImgPipeline"
   ]
  },
  {
   "cell_type": "code",
   "execution_count": 2,
   "metadata": {},
   "outputs": [],
   "source": [
    "STABLE_DIFFUSION_MODEL_PATH = Path.home() / \"Desktop/stable-diffusion-v1-4\"\n",
    "device = \"cuda\" if torch.cuda.is_available() else \"cpu\""
   ]
  },
  {
   "cell_type": "code",
   "execution_count": null,
   "metadata": {},
   "outputs": [],
   "source": [
    "# Load the txt_to_img pipeline\n",
    "txt_to_img = StableDiffusionPipeline.from_pretrained(\n",
    "    str(STABLE_DIFFUSION_MODEL_PATH), revision=\"fp16\", torch_dtype=torch.float16\n",
    ")\n",
    "# Turn off safety_checker to avoid false positives\n",
    "txt_to_img.safety_checker = lambda images, **kwargs: (images, False)\n",
    "# txt_to_img.enable_attention_slicing()  # use less vram\n",
    "txt_to_img = txt_to_img.to(device)\n",
    "# Load the img2img pipeline, using the models\n",
    "# from the txt_to_img pipeline, to not waste vram.\n",
    "im2im = StableDiffusionImg2ImgPipeline(\n",
    "    vae=txt_to_img.vae,\n",
    "    text_encoder=txt_to_img.text_encoder,\n",
    "    tokenizer=txt_to_img.tokenizer,\n",
    "    unet=txt_to_img.unet,\n",
    "    scheduler=LMSDiscreteScheduler(\n",
    "        beta_start=0.00085,\n",
    "        beta_end=0.012,\n",
    "        beta_schedule=\"scaled_linear\",\n",
    "        num_train_timesteps=1000,\n",
    "    ),\n",
    ")\n",
    "# im2im.enable_attention_slicing()\n",
    "im2im.progress_bar = lambda iterable: iterable  # turn off progress bar\n",
    "im2im.to(device)"
   ]
  },
  {
   "cell_type": "code",
   "execution_count": 4,
   "metadata": {},
   "outputs": [],
   "source": [
    "# Helpers\n",
    "\n",
    "\n",
    "def timestamp():\n",
    "    return time.strftime(\"%Y%m%d-%H%M%S\")\n",
    "\n",
    "\n",
    "def maintain_colors(prev_img, color_match_sample, mode):\n",
    "    # source: https://colab.research.google.com/github/deforum/stable-diffusion/blob/main/Deforum_Stable_Diffusion.ipynb#scrollTo=2g-f7cQmf2Nt\n",
    "    return match_histograms(prev_img, color_match_sample, multichannel=True)"
   ]
  },
  {
   "cell_type": "code",
   "execution_count": 285,
   "metadata": {},
   "outputs": [
    {
     "name": "stdout",
     "output_type": "stream",
     "text": [
      "notebook_path.resolve() = PosixPath('/home/sid/Documents/stable-diffusion-im2im/main.ipynb')\n",
      "OUTPUT_DIR.resolve() = PosixPath('/home/sid/Documents/stable-diffusion-im2im/images/20221002-191244')\n"
     ]
    }
   ],
   "source": [
    "OUTPUT_DIR = Path(f\"runs/{timestamp()}\")\n",
    "PROMPT_A = \"A photo of a blue train in the distance\"\n",
    "PROMPT_B = \"A toothbrush\"\n",
    "\n",
    "# Key parameters to play with\n",
    "GUIDANCE_SCALE = 10\n",
    "IMG2IMG_STRENGTH = 0.53  # <- effect can be quite variable\n",
    "\n",
    "NUM_IMG2IMG_STEPS = 20\n",
    "SEED = 10\n",
    "WIDTH = 512\n",
    "HEIGHT = 512\n",
    "OUTPUT_DIR.mkdir(exist_ok=True, parents=True)\n",
    "# Use same random seed for everything\n",
    "generator = torch.Generator(\"cuda\").manual_seed(SEED)\n",
    "# To know where things were\n",
    "notebook_path = Path(__vsc_ipynb_file__)  # vscode only\n",
    "print(f\"{notebook_path.resolve() = }\")\n",
    "print(f\"{OUTPUT_DIR.resolve() = }\")"
   ]
  },
  {
   "cell_type": "code",
   "execution_count": 286,
   "metadata": {},
   "outputs": [
    {
     "data": {
      "text/plain": [
       "PosixPath('images/20221002-191244/main_20221002-191245.ipynb')"
      ]
     },
     "execution_count": 286,
     "metadata": {},
     "output_type": "execute_result"
    }
   ],
   "source": [
    "# save a copy of this nb in OUTPUT_DIR, for reproducibility\n",
    "shutil.copy(\n",
    "    src=notebook_path, dst=OUTPUT_DIR / f\"{notebook_path.stem}_{timestamp()}.ipynb\"\n",
    ")"
   ]
  },
  {
   "cell_type": "code",
   "execution_count": 287,
   "metadata": {},
   "outputs": [
    {
     "name": "stderr",
     "output_type": "stream",
     "text": [
      "100%|██████████| 51/51 [00:09<00:00,  5.25it/s]\n"
     ]
    }
   ],
   "source": [
    "# Generate the initial image\n",
    "with autocast(\"cuda\"), torch.no_grad():\n",
    "    init_image = txt_to_img(\n",
    "        [PROMPT_A], width=WIDTH, height=HEIGHT, generator=generator\n",
    "    )[\"sample\"][0]\n",
    "init_image.save(OUTPUT_DIR / f\"{PROMPT_A}_{PROMPT_B}_{0:04d}.jpg\")\n",
    "image = init_image\n",
    "i = 0"
   ]
  },
  {
   "cell_type": "code",
   "execution_count": 288,
   "metadata": {},
   "outputs": [
    {
     "name": "stderr",
     "output_type": "stream",
     "text": [
      "  0%|          | 0/20 [00:00<?, ?it/s]/tmp/ipykernel_52008/570955215.py:11: FutureWarning: `multichannel` is a deprecated argument name for `match_histograms`. It will be removed in version 1.0. Please use `channel_axis` instead.\n",
      "  return match_histograms(prev_img, color_match_sample, multichannel=True)\n",
      "100%|██████████| 20/20 [01:47<00:00,  5.39s/it]"
     ]
    },
    {
     "name": "stdout",
     "output_type": "stream",
     "text": [
      "i = 20\n"
     ]
    },
    {
     "name": "stderr",
     "output_type": "stream",
     "text": [
      "\n"
     ]
    }
   ],
   "source": [
    "i_start = i + 1  # means can rerun cell to continue generation\n",
    "# Generate the rest of the images\n",
    "for i in tqdm(range(i_start, i_start + NUM_IMG2IMG_STEPS)):\n",
    "    # Try to prevent colours from going red\n",
    "    image = Image.fromarray(\n",
    "        maintain_colors(np.array(image), np.array(init_image), \"Match Frame 0 RGB\")\n",
    "    )\n",
    "    generator = torch.Generator(\"cuda\").manual_seed(i)\n",
    "    with autocast(\"cuda\"), torch.no_grad():\n",
    "        image = im2im(\n",
    "            PROMPT_B,\n",
    "            image,\n",
    "            strength=IMG2IMG_STRENGTH,\n",
    "            guidance_scale=GUIDANCE_SCALE,\n",
    "            generator=generator,\n",
    "        )[\"sample\"][0]\n",
    "    image.save(OUTPUT_DIR / f\"{PROMPT_A}_{PROMPT_B}_{i:04d}.jpg\")\n",
    "print(f\"{i = }\")"
   ]
  },
  {
   "cell_type": "code",
   "execution_count": 289,
   "metadata": {},
   "outputs": [
    {
     "name": "stdout",
     "output_type": "stream",
     "text": [
      "ffmpeg version 4.4.2 Copyright (c) 2000-2021 the FFmpeg developers\n",
      "  built with gcc 10.4.0 (conda-forge gcc 10.4.0-16)\n",
      "  configuration: --prefix=/home/conda/feedstock_root/build_artifacts/ffmpeg_1664281150702/_h_env_placehold_placehold_placehold_placehold_placehold_placehold_placehold_placehold_placehold_placehold_placehold_placehold_placehold_placehold_placehold_placehold_placehold_placehold_plac --cc=/home/conda/feedstock_root/build_artifacts/ffmpeg_1664281150702/_build_env/bin/x86_64-conda-linux-gnu-cc --cxx=/home/conda/feedstock_root/build_artifacts/ffmpeg_1664281150702/_build_env/bin/x86_64-conda-linux-gnu-c++ --nm=/home/conda/feedstock_root/build_artifacts/ffmpeg_1664281150702/_build_env/bin/x86_64-conda-linux-gnu-nm --ar=/home/conda/feedstock_root/build_artifacts/ffmpeg_1664281150702/_build_env/bin/x86_64-conda-linux-gnu-ar --disable-doc --disable-openssl --enable-avresample --enable-demuxer=dash --enable-hardcoded-tables --enable-libfreetype --enable-libfontconfig --enable-libopenh264 --enable-gnutls --enable-libmp3lame --enable-libvpx --enable-pthreads --enable-vaapi --enable-gpl --enable-libx264 --enable-libx265 --enable-libaom --enable-libsvtav1 --enable-libxml2 --enable-pic --enable-shared --disable-static --enable-version3 --enable-zlib --pkg-config=/home/conda/feedstock_root/build_artifacts/ffmpeg_1664281150702/_build_env/bin/pkg-config\n",
      "  libavutil      56. 70.100 / 56. 70.100\n",
      "  libavcodec     58.134.100 / 58.134.100\n",
      "  libavformat    58. 76.100 / 58. 76.100\n",
      "  libavdevice    58. 13.100 / 58. 13.100\n",
      "  libavfilter     7.110.100 /  7.110.100\n",
      "  libavresample   4.  0.  0 /  4.  0.  0\n",
      "  libswscale      5.  9.100 /  5.  9.100\n",
      "  libswresample   3.  9.100 /  3.  9.100\n",
      "  libpostproc    55.  9.100 / 55.  9.100\n",
      "Input #0, image2, from 'images/20221002-191244/*.jpg':\n",
      "  Duration: 00:00:02.63, start: 0.000000, bitrate: N/A\n",
      "  Stream #0:0: Video: mjpeg (Baseline), yuvj420p(pc, bt470bg/unknown/unknown), 512x512 [SAR 1:1 DAR 1:1], 8 fps, 8 tbr, 8 tbn, 8 tbc\n",
      "Stream mapping:\n",
      "  Stream #0:0 -> #0:0 (mjpeg (native) -> h264 (libx264))\n",
      "Press [q] to stop, [?] for help\n",
      "\u001b[1;34m[swscaler @ 0x55e197584500] \u001b[0m\u001b[0;33mdeprecated pixel format used, make sure you did set range correctly\n",
      "\u001b[0m\u001b[1;36m[libx264 @ 0x55e19740ff00] \u001b[0musing SAR=1/1\n",
      "\u001b[1;36m[libx264 @ 0x55e19740ff00] \u001b[0musing cpu capabilities: MMX2 SSE2Fast SSSE3 SSE4.2 AVX FMA3 BMI2 AVX2\n",
      "\u001b[1;36m[libx264 @ 0x55e19740ff00] \u001b[0mprofile High, level 2.2, 4:2:0, 8-bit\n",
      "\u001b[1;36m[libx264 @ 0x55e19740ff00] \u001b[0m264 - core 164 r3095 baee400 - H.264/MPEG-4 AVC codec - Copyleft 2003-2022 - http://www.videolan.org/x264.html - options: cabac=1 ref=3 deblock=1:0:0 analyse=0x3:0x113 me=hex subme=7 psy=1 psy_rd=1.00:0.00 mixed_ref=1 me_range=16 chroma_me=1 trellis=1 8x8dct=1 cqm=0 deadzone=21,11 fast_pskip=1 chroma_qp_offset=-2 threads=16 lookahead_threads=2 sliced_threads=0 nr=0 decimate=1 interlaced=0 bluray_compat=0 constrained_intra=0 bframes=3 b_pyramid=2 b_adapt=1 b_bias=0 direct=1 weightb=1 open_gop=0 weightp=2 keyint=250 keyint_min=8 scenecut=40 intra_refresh=0 rc_lookahead=40 rc=crf mbtree=1 crf=23.0 qcomp=0.60 qpmin=0 qpmax=69 qpstep=4 ip_ratio=1.40 aq=1:1.00\n",
      "Output #0, mp4, to 'images/20221002-191244/movie.mp4':\n",
      "  Metadata:\n",
      "    encoder         : Lavf58.76.100\n",
      "  Stream #0:0: Video: h264 (avc1 / 0x31637661), yuv420p(tv, bt470bg/unknown/unknown, progressive), 512x512 [SAR 1:1 DAR 1:1], q=2-31, 8 fps, 16384 tbn\n",
      "    Metadata:\n",
      "      encoder         : Lavc58.134.100 libx264\n",
      "    Side data:\n",
      "      cpb: bitrate max/min/avg: 0/0/0 buffer size: 0 vbv_delay: N/A\n",
      "frame=   21 fps=0.0 q=-1.0 Lsize=     805kB time=00:00:02.25 bitrate=2929.8kbits/s speed=10.1x    \n",
      "video:804kB audio:0kB subtitle:0kB other streams:0kB global headers:0kB muxing overhead: 0.131236%\n",
      "\u001b[1;36m[libx264 @ 0x55e19740ff00] \u001b[0mframe I:2     Avg QP:23.81  size: 45840\n",
      "\u001b[1;36m[libx264 @ 0x55e19740ff00] \u001b[0mframe P:9     Avg QP:24.58  size: 39467\n",
      "\u001b[1;36m[libx264 @ 0x55e19740ff00] \u001b[0mframe B:10    Avg QP:24.68  size: 37537\n",
      "\u001b[1;36m[libx264 @ 0x55e19740ff00] \u001b[0mconsecutive B-frames: 33.3%  0.0% 28.6% 38.1%\n",
      "\u001b[1;36m[libx264 @ 0x55e19740ff00] \u001b[0mmb I  I16..4:  1.1% 96.8%  2.1%\n",
      "\u001b[1;36m[libx264 @ 0x55e19740ff00] \u001b[0mmb P  I16..4:  0.7% 80.5%  2.4%  P16..4:  6.5%  6.3%  3.5%  0.0%  0.0%    skip: 0.0%\n",
      "\u001b[1;36m[libx264 @ 0x55e19740ff00] \u001b[0mmb B  I16..4:  1.3% 38.5%  4.8%  B16..8: 18.0% 18.3%  9.1%  direct: 9.9%  skip: 0.0%  L0:26.4% L1:32.1% BI:41.4%\n",
      "\u001b[1;36m[libx264 @ 0x55e19740ff00] \u001b[0m8x8 transform intra:93.2% inter:97.6%\n",
      "\u001b[1;36m[libx264 @ 0x55e19740ff00] \u001b[0mcoded y,uvDC,uvAC intra: 95.5% 70.6% 35.5% inter: 97.4% 96.5% 16.0%\n",
      "\u001b[1;36m[libx264 @ 0x55e19740ff00] \u001b[0mi16 v,h,dc,p: 10% 36% 13% 41%\n",
      "\u001b[1;36m[libx264 @ 0x55e19740ff00] \u001b[0mi8 v,h,dc,ddl,ddr,vr,hd,vl,hu:  4%  9% 48%  6% 15%  3%  8%  2%  5%\n",
      "\u001b[1;36m[libx264 @ 0x55e19740ff00] \u001b[0mi4 v,h,dc,ddl,ddr,vr,hd,vl,hu: 14% 15%  8%  3% 12%  7% 33%  4%  4%\n",
      "\u001b[1;36m[libx264 @ 0x55e19740ff00] \u001b[0mi8c dc,h,v,p: 46% 32% 13%  9%\n",
      "\u001b[1;36m[libx264 @ 0x55e19740ff00] \u001b[0mWeighted P-Frames: Y:55.6% UV:55.6%\n",
      "\u001b[1;36m[libx264 @ 0x55e19740ff00] \u001b[0mref P L0: 42.3% 17.0% 19.4% 15.2%  6.0%\n",
      "\u001b[1;36m[libx264 @ 0x55e19740ff00] \u001b[0mref B L0: 80.6% 16.6%  2.8%\n",
      "\u001b[1;36m[libx264 @ 0x55e19740ff00] \u001b[0mref B L1: 92.9%  7.1%\n",
      "\u001b[1;36m[libx264 @ 0x55e19740ff00] \u001b[0mkb/s:2505.92\n",
      "VLC media player 3.0.16 Vetinari (revision 3.0.16-0-g5e70837d8d)\n",
      "[\u001b[32;1m000055ef7b52da00\u001b[0m] main libvlc: \u001b[0;1mRunning vlc with the default interface. Use 'cvlc' to use vlc without interface.\u001b[0m\n",
      "TagLib: MP4: No audio tracks\n",
      "Qt: Session management error: Could not open network socket\n",
      "TagLib: MP4: No audio tracks\n",
      "libva info: VA-API version 1.1.0\n",
      "libva info: va_getDriverName() returns 0\n",
      "libva info: Trying to open /snap/vlc/2344/usr/lib/x86_64-linux-gnu/dri/nvidia_drv_video.so\n",
      "libva info: Found init function __vaDriverInit_1_0\n",
      "libva info: va_openDriver() returns 0\n",
      "[\u001b[32;1m00007fc078001f30\u001b[0m] glconv_vaapi_x11 gl error: \u001b[31;1mvaCreateSurfaces: attribute not supported\u001b[0m\n",
      "[\u001b[32;1m00007fc080052110\u001b[0m] main video output error: \u001b[31;1mvideo output creation failed\u001b[0m\n",
      "[\u001b[32;1m00007fc098c02360\u001b[0m] main decoder error: \u001b[31;1mfailed to create video output\u001b[0m\n",
      "[\u001b[32;1m00007fc098c02360\u001b[0m] avcodec decoder: \u001b[0;1mUsing NVIDIA VDPAU Driver Shared Library  470.141.03  Thu Jun 30 18:33:34 UTC 2022 for hardware decoding\u001b[0m\n",
      "TagLib: MP4: No audio tracks\n",
      "[\u001b[32;1m00007fc098c0f2b0\u001b[0m] avcodec decoder: \u001b[0;1mUsing NVIDIA VDPAU Driver Shared Library  470.141.03  Thu Jun 30 18:33:34 UTC 2022 for hardware decoding\u001b[0m\n",
      "TagLib: MP4: No audio tracks\n",
      "[\u001b[32;1m00007fc098c0cfa0\u001b[0m] avcodec decoder: \u001b[0;1mUsing NVIDIA VDPAU Driver Shared Library  470.141.03  Thu Jun 30 18:33:34 UTC 2022 for hardware decoding\u001b[0m\n",
      "TagLib: MP4: No audio tracks\n",
      "[\u001b[32;1m00007fc098c02870\u001b[0m] avcodec decoder: \u001b[0;1mUsing NVIDIA VDPAU Driver Shared Library  470.141.03  Thu Jun 30 18:33:34 UTC 2022 for hardware decoding\u001b[0m\n",
      "TagLib: MP4: No audio tracks\n",
      "The X11 connection broke: I/O error (code 1)\n",
      "XIO:  fatal IO error 2 (No such file or directory) on X server \":1\"\n",
      "      after 46 requests (46 known processed) with 0 events remaining.\n",
      "[\u001b[32;1m00007fc078024b70\u001b[0m] xcb vout display error: \u001b[31;1mwindow not valid\u001b[0m\n"
     ]
    }
   ],
   "source": [
    "# turn the images into a movie\n",
    "!ffmpeg -y -framerate 8 -pattern_type glob -i \"{OUTPUT_DIR}/*.jpg\"  \\\n",
    "    -c:v libx264 -pix_fmt yuv420p -vf trim=0:30 \"{OUTPUT_DIR}/movie.mp4\"\n",
    "\n",
    "# Play the movie with vlc (if it's installed)\n",
    "!vlc \"{OUTPUT_DIR}/movie.mp4\""
   ]
  },
  {
   "cell_type": "code",
   "execution_count": 290,
   "metadata": {},
   "outputs": [
    {
     "name": "stdout",
     "output_type": "stream",
     "text": [
      "ffmpeg version 4.4.2 Copyright (c) 2000-2021 the FFmpeg developers\n",
      "  built with gcc 10.4.0 (conda-forge gcc 10.4.0-16)\n",
      "  configuration: --prefix=/home/conda/feedstock_root/build_artifacts/ffmpeg_1664281150702/_h_env_placehold_placehold_placehold_placehold_placehold_placehold_placehold_placehold_placehold_placehold_placehold_placehold_placehold_placehold_placehold_placehold_placehold_placehold_plac --cc=/home/conda/feedstock_root/build_artifacts/ffmpeg_1664281150702/_build_env/bin/x86_64-conda-linux-gnu-cc --cxx=/home/conda/feedstock_root/build_artifacts/ffmpeg_1664281150702/_build_env/bin/x86_64-conda-linux-gnu-c++ --nm=/home/conda/feedstock_root/build_artifacts/ffmpeg_1664281150702/_build_env/bin/x86_64-conda-linux-gnu-nm --ar=/home/conda/feedstock_root/build_artifacts/ffmpeg_1664281150702/_build_env/bin/x86_64-conda-linux-gnu-ar --disable-doc --disable-openssl --enable-avresample --enable-demuxer=dash --enable-hardcoded-tables --enable-libfreetype --enable-libfontconfig --enable-libopenh264 --enable-gnutls --enable-libmp3lame --enable-libvpx --enable-pthreads --enable-vaapi --enable-gpl --enable-libx264 --enable-libx265 --enable-libaom --enable-libsvtav1 --enable-libxml2 --enable-pic --enable-shared --disable-static --enable-version3 --enable-zlib --pkg-config=/home/conda/feedstock_root/build_artifacts/ffmpeg_1664281150702/_build_env/bin/pkg-config\n",
      "  libavutil      56. 70.100 / 56. 70.100\n",
      "  libavcodec     58.134.100 / 58.134.100\n",
      "  libavformat    58. 76.100 / 58. 76.100\n",
      "  libavdevice    58. 13.100 / 58. 13.100\n",
      "  libavfilter     7.110.100 /  7.110.100\n",
      "  libavresample   4.  0.  0 /  4.  0.  0\n",
      "  libswscale      5.  9.100 /  5.  9.100\n",
      "  libswresample   3.  9.100 /  3.  9.100\n",
      "  libpostproc    55.  9.100 / 55.  9.100\n",
      "Input #0, mov,mp4,m4a,3gp,3g2,mj2, from 'images/20221002-191244/movie.mp4':\n",
      "  Metadata:\n",
      "    major_brand     : isom\n",
      "    minor_version   : 512\n",
      "    compatible_brands: isomiso2avc1mp41\n",
      "    encoder         : Lavf58.76.100\n",
      "  Duration: 00:00:02.63, start: 0.000000, bitrate: 2511 kb/s\n",
      "  Stream #0:0(und): Video: h264 (High) (avc1 / 0x31637661), yuv420p(tv, bt470bg/unknown/unknown), 512x512 [SAR 1:1 DAR 1:1], 2508 kb/s, 8 fps, 8 tbr, 16384 tbn, 16 tbc (default)\n",
      "    Metadata:\n",
      "      handler_name    : VideoHandler\n",
      "      vendor_id       : [0][0][0][0]\n",
      "Stream mapping:\n",
      "  Stream #0:0 (h264) -> reverse\n",
      "  Stream #0:0 (h264) -> concat:in0:v0\n",
      "  concat -> Stream #0:0 (libx264)\n",
      "Press [q] to stop, [?] for help\n",
      "\u001b[1;36m[libx264 @ 0x5650ba127ec0] \u001b[0musing SAR=1/1\n",
      "\u001b[1;36m[libx264 @ 0x5650ba127ec0] \u001b[0musing cpu capabilities: MMX2 SSE2Fast SSSE3 SSE4.2 AVX FMA3 BMI2 AVX2\n",
      "\u001b[1;36m[libx264 @ 0x5650ba127ec0] \u001b[0mprofile High, level 2.2, 4:2:0, 8-bit\n",
      "\u001b[1;36m[libx264 @ 0x5650ba127ec0] \u001b[0m264 - core 164 r3095 baee400 - H.264/MPEG-4 AVC codec - Copyleft 2003-2022 - http://www.videolan.org/x264.html - options: cabac=1 ref=3 deblock=1:0:0 analyse=0x3:0x113 me=hex subme=7 psy=1 psy_rd=1.00:0.00 mixed_ref=1 me_range=16 chroma_me=1 trellis=1 8x8dct=1 cqm=0 deadzone=21,11 fast_pskip=1 chroma_qp_offset=-2 threads=16 lookahead_threads=2 sliced_threads=0 nr=0 decimate=1 interlaced=0 bluray_compat=0 constrained_intra=0 bframes=3 b_pyramid=2 b_adapt=1 b_bias=0 direct=1 weightb=1 open_gop=0 weightp=2 keyint=250 keyint_min=8 scenecut=40 intra_refresh=0 rc_lookahead=40 rc=crf mbtree=1 crf=23.0 qcomp=0.60 qpmin=0 qpmax=69 qpstep=4 ip_ratio=1.40 aq=1:1.00\n",
      "Output #0, mp4, to 'images/20221002-191244/movie_loop.mp4':\n",
      "  Metadata:\n",
      "    major_brand     : isom\n",
      "    minor_version   : 512\n",
      "    compatible_brands: isomiso2avc1mp41\n",
      "    encoder         : Lavf58.76.100\n",
      "  Stream #0:0: Video: h264 (avc1 / 0x31637661), yuv420p(tv, bt470bg/unknown/unknown, progressive), 512x512 [SAR 1:1 DAR 1:1], q=2-31, 8 fps, 16384 tbn (default)\n",
      "    Metadata:\n",
      "      encoder         : Lavc58.134.100 libx264\n",
      "    Side data:\n",
      "      cpb: bitrate max/min/avg: 0/0/0 buffer size: 0 vbv_delay: N/A\n",
      "frame=   42 fps=0.0 q=-1.0 Lsize=    1554kB time=00:00:04.87 bitrate=2611.4kbits/s speed=12.4x    \n",
      "video:1553kB audio:0kB subtitle:0kB other streams:0kB global headers:0kB muxing overhead: 0.083520%\n",
      "\u001b[1;36m[libx264 @ 0x5650ba127ec0] \u001b[0mframe I:3     Avg QP:22.77  size: 44713\n",
      "\u001b[1;36m[libx264 @ 0x5650ba127ec0] \u001b[0mframe P:19    Avg QP:24.46  size: 38227\n",
      "\u001b[1;36m[libx264 @ 0x5650ba127ec0] \u001b[0mframe B:20    Avg QP:24.74  size: 36445\n",
      "\u001b[1;36m[libx264 @ 0x5650ba127ec0] \u001b[0mconsecutive B-frames: 33.3%  9.5%  0.0% 57.1%\n",
      "\u001b[1;36m[libx264 @ 0x5650ba127ec0] \u001b[0mmb I  I16..4:  1.9% 95.9%  2.2%\n",
      "\u001b[1;36m[libx264 @ 0x5650ba127ec0] \u001b[0mmb P  I16..4:  1.8% 78.3%  3.7%  P16..4:  6.2%  6.0%  4.0%  0.0%  0.0%    skip: 0.0%\n",
      "\u001b[1;36m[libx264 @ 0x5650ba127ec0] \u001b[0mmb B  I16..4:  1.2% 28.8%  5.0%  B16..8: 20.5% 19.1% 10.3%  direct:10.0%  skip: 5.1%  L0:34.4% L1:26.0% BI:39.6%\n",
      "\u001b[1;36m[libx264 @ 0x5650ba127ec0] \u001b[0m8x8 transform intra:90.7% inter:97.3%\n",
      "\u001b[1;36m[libx264 @ 0x5650ba127ec0] \u001b[0mcoded y,uvDC,uvAC intra: 93.8% 71.0% 35.3% inter: 90.5% 88.9% 13.3%\n",
      "\u001b[1;36m[libx264 @ 0x5650ba127ec0] \u001b[0mi16 v,h,dc,p:  9% 43% 12% 36%\n",
      "\u001b[1;36m[libx264 @ 0x5650ba127ec0] \u001b[0mi8 v,h,dc,ddl,ddr,vr,hd,vl,hu:  4%  8% 44%  7% 17%  3%  9%  2%  6%\n",
      "\u001b[1;36m[libx264 @ 0x5650ba127ec0] \u001b[0mi4 v,h,dc,ddl,ddr,vr,hd,vl,hu: 13% 16%  9%  3% 12%  8% 31%  4%  4%\n",
      "\u001b[1;36m[libx264 @ 0x5650ba127ec0] \u001b[0mi8c dc,h,v,p: 47% 31% 13%  9%\n",
      "\u001b[1;36m[libx264 @ 0x5650ba127ec0] \u001b[0mWeighted P-Frames: Y:47.4% UV:47.4%\n",
      "\u001b[1;36m[libx264 @ 0x5650ba127ec0] \u001b[0mref P L0: 44.9% 17.9% 21.0% 12.7%  3.5%\n",
      "\u001b[1;36m[libx264 @ 0x5650ba127ec0] \u001b[0mref B L0: 81.2% 14.1%  4.7%\n",
      "\u001b[1;36m[libx264 @ 0x5650ba127ec0] \u001b[0mref B L1: 93.7%  6.3%\n",
      "\u001b[1;36m[libx264 @ 0x5650ba127ec0] \u001b[0mkb/s:2421.86\n",
      "VLC media player 3.0.16 Vetinari (revision 3.0.16-0-g5e70837d8d)\n",
      "[\u001b[32;1m000055bc7f79ca00\u001b[0m] main libvlc: \u001b[0;1mRunning vlc with the default interface. Use 'cvlc' to use vlc without interface.\u001b[0m\n",
      "TagLib: MP4: No audio tracks\n",
      "Qt: Session management error: Could not open network socket\n",
      "TagLib: MP4: No audio tracks\n",
      "libva info: VA-API version 1.1.0\n",
      "libva info: va_getDriverName() returns 0\n",
      "libva info: Trying to open /snap/vlc/2344/usr/lib/x86_64-linux-gnu/dri/nvidia_drv_video.so\n",
      "libva info: Found init function __vaDriverInit_1_0\n",
      "libva info: va_openDriver() returns 0\n",
      "[\u001b[32;1m00007f3798001f30\u001b[0m] glconv_vaapi_x11 gl error: \u001b[31;1mvaCreateSurfaces: attribute not supported\u001b[0m\n",
      "[\u001b[32;1m00007f37a0051d00\u001b[0m] main video output error: \u001b[31;1mvideo output creation failed\u001b[0m\n",
      "[\u001b[32;1m00007f37acc19f70\u001b[0m] main decoder error: \u001b[31;1mfailed to create video output\u001b[0m\n",
      "[\u001b[32;1m00007f37acc19f70\u001b[0m] avcodec decoder: \u001b[0;1mUsing NVIDIA VDPAU Driver Shared Library  470.141.03  Thu Jun 30 18:33:34 UTC 2022 for hardware decoding\u001b[0m\n",
      "TagLib: MP4: No audio tracks\n",
      "[\u001b[32;1m00007f37acc14750\u001b[0m] avcodec decoder: \u001b[0;1mUsing NVIDIA VDPAU Driver Shared Library  470.141.03  Thu Jun 30 18:33:34 UTC 2022 for hardware decoding\u001b[0m\n",
      "The X11 connection broke: I/O error (code 1)\n",
      "XIO:  fatal IO error 11 (Resource temporarily unavailable) on X server \":1\"\n",
      "      after 27 requests (27 known processed) with 0 events remaining.\n"
     ]
    }
   ],
   "source": [
    "# make the movie into a loop, by concatenating the reverse of it\n",
    "!ffmpeg -i \"{OUTPUT_DIR}/movie.mp4\"  \\\n",
    "    -filter_complex \"[0:v]reverse,fifo[r];[0:v][r] concat=n=2:v=1 [v]\" -map \"[v]\"  \\\n",
    "    -y  \\\n",
    "    \"{OUTPUT_DIR}/movie_loop.mp4\"\n",
    "\n",
    "!vlc \"{OUTPUT_DIR}/movie_loop.mp4\""
   ]
  },
  {
   "cell_type": "code",
   "execution_count": 296,
   "metadata": {},
   "outputs": [
    {
     "name": "stdout",
     "output_type": "stream",
     "text": [
      "ffmpeg version 4.4.2 Copyright (c) 2000-2021 the FFmpeg developers\n",
      "  built with gcc 10.4.0 (conda-forge gcc 10.4.0-16)\n",
      "  configuration: --prefix=/home/conda/feedstock_root/build_artifacts/ffmpeg_1664281150702/_h_env_placehold_placehold_placehold_placehold_placehold_placehold_placehold_placehold_placehold_placehold_placehold_placehold_placehold_placehold_placehold_placehold_placehold_placehold_plac --cc=/home/conda/feedstock_root/build_artifacts/ffmpeg_1664281150702/_build_env/bin/x86_64-conda-linux-gnu-cc --cxx=/home/conda/feedstock_root/build_artifacts/ffmpeg_1664281150702/_build_env/bin/x86_64-conda-linux-gnu-c++ --nm=/home/conda/feedstock_root/build_artifacts/ffmpeg_1664281150702/_build_env/bin/x86_64-conda-linux-gnu-nm --ar=/home/conda/feedstock_root/build_artifacts/ffmpeg_1664281150702/_build_env/bin/x86_64-conda-linux-gnu-ar --disable-doc --disable-openssl --enable-avresample --enable-demuxer=dash --enable-hardcoded-tables --enable-libfreetype --enable-libfontconfig --enable-libopenh264 --enable-gnutls --enable-libmp3lame --enable-libvpx --enable-pthreads --enable-vaapi --enable-gpl --enable-libx264 --enable-libx265 --enable-libaom --enable-libsvtav1 --enable-libxml2 --enable-pic --enable-shared --disable-static --enable-version3 --enable-zlib --pkg-config=/home/conda/feedstock_root/build_artifacts/ffmpeg_1664281150702/_build_env/bin/pkg-config\n",
      "  libavutil      56. 70.100 / 56. 70.100\n",
      "  libavcodec     58.134.100 / 58.134.100\n",
      "  libavformat    58. 76.100 / 58. 76.100\n",
      "  libavdevice    58. 13.100 / 58. 13.100\n",
      "  libavfilter     7.110.100 /  7.110.100\n",
      "  libavresample   4.  0.  0 /  4.  0.  0\n",
      "  libswscale      5.  9.100 /  5.  9.100\n",
      "  libswresample   3.  9.100 /  3.  9.100\n",
      "  libpostproc    55.  9.100 / 55.  9.100\n",
      "Input #0, mov,mp4,m4a,3gp,3g2,mj2, from 'images/20221002-191244/movie.mp4':\n",
      "  Metadata:\n",
      "    major_brand     : isom\n",
      "    minor_version   : 512\n",
      "    compatible_brands: isomiso2avc1mp41\n",
      "    encoder         : Lavf58.76.100\n",
      "  Duration: 00:00:02.63, start: 0.000000, bitrate: 2511 kb/s\n",
      "  Stream #0:0(und): Video: h264 (High) (avc1 / 0x31637661), yuv420p(tv, bt470bg/unknown/unknown), 512x512 [SAR 1:1 DAR 1:1], 2508 kb/s, 8 fps, 8 tbr, 16384 tbn, 16 tbc (default)\n",
      "    Metadata:\n",
      "      handler_name    : VideoHandler\n",
      "      vendor_id       : [0][0][0][0]\n",
      "Stream mapping:\n",
      "  Stream #0:0 -> #0:0 (h264 (native) -> gif (native))\n",
      "Press [q] to stop, [?] for help\n",
      "\u001b[1;34m[swscaler @ 0x56102d121180] \u001b[0m\u001b[0;33mNo accelerated colorspace conversion found from yuv420p to bgr8.\n",
      "\u001b[0mOutput #0, gif, to 'example.gif':\n",
      "  Metadata:\n",
      "    major_brand     : isom\n",
      "    minor_version   : 512\n",
      "    compatible_brands: isomiso2avc1mp41\n",
      "    encoder         : Lavf58.76.100\n",
      "  Stream #0:0(und): Video: gif, bgr8(pc, gbr/unknown/unknown, progressive), 512x512 [SAR 1:1 DAR 1:1], q=2-31, 200 kb/s, 8 fps, 100 tbn (default)\n",
      "    Metadata:\n",
      "      handler_name    : VideoHandler\n",
      "      vendor_id       : [0][0][0][0]\n",
      "      encoder         : Lavc58.134.100 gif\n",
      "frame=   21 fps=0.0 q=-0.0 Lsize=    2307kB time=00:00:02.51 bitrate=7529.9kbits/s speed=20.4x    \n",
      "video:2307kB audio:0kB subtitle:0kB other streams:0kB global headers:0kB muxing overhead: 0.000847%\n"
     ]
    }
   ],
   "source": [
    "!ffmpeg -y -i \"{OUTPUT_DIR}/movie.mp4\" \"example.gif\""
   ]
  }
 ],
 "metadata": {
  "kernelspec": {
   "display_name": "Python 3.9.13 ('stable-diffusion-im2im')",
   "language": "python",
   "name": "python3"
  },
  "language_info": {
   "codemirror_mode": {
    "name": "ipython",
    "version": 3
   },
   "file_extension": ".py",
   "mimetype": "text/x-python",
   "name": "python",
   "nbconvert_exporter": "python",
   "pygments_lexer": "ipython3",
   "version": "3.9.13"
  },
  "orig_nbformat": 4,
  "vscode": {
   "interpreter": {
    "hash": "cea3af3ea9aced30a5c72c792fbd026032c096800e9cc9471dd580bb4e3cffca"
   }
  }
 },
 "nbformat": 4,
 "nbformat_minor": 2
}
